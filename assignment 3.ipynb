{
 "cells": [
  {
   "cell_type": "code",
   "execution_count": 1,
   "metadata": {},
   "outputs": [
    {
     "name": "stdout",
     "output_type": "stream",
     "text": [
      "enter first value3\n",
      "enter second value2\n",
      "enter operation:^\n",
      "9 answer\n"
     ]
    }
   ],
   "source": [
    "val1 = int(input('enter first value'))\n",
    "val2 = int(input('enter second value'))\n",
    "operation = input('enter operation:')\n",
    "\n",
    "if operation == '+':\n",
    "    val = val1 + val2\n",
    "    print(val ,'answer')\n",
    "elif operation == '-':\n",
    "    val = val1 - val2\n",
    "    print(val ,'answer')\n",
    "elif operation == '*':\n",
    "    val = val1 * val2\n",
    "    print(val ,'answer')\n",
    "    \n",
    "elif operation == '/':\n",
    "    val = val1 / val2\n",
    "    print(val ,'answer')  \n",
    "elif operation == '^':\n",
    "    val = val1 ** val2\n",
    "    print(val ,'answer')\n",
    "else:\n",
    "    print('enter correct operation')"
   ]
  },
  {
   "cell_type": "code",
   "execution_count": 30,
   "metadata": {},
   "outputs": [
    {
     "name": "stdout",
     "output_type": "stream",
     "text": [
      "list ['a', 'b', 'x', 'z', 0]\n",
      "there is numeric value\n"
     ]
    }
   ],
   "source": [
    "lis = ['a', 'b', 'x', 'z',0] \n",
    "print (\"list\", str(lis)) \n",
    "res = 0\n",
    "for item in ini_list: \n",
    "    try:\n",
    "        int(item) \n",
    "        res = 1\n",
    "    except ValueError: \n",
    "        pass\n",
    "if res == 0:\n",
    "    print(\"there is no numeric value\")\n",
    "else:\n",
    "        print(\"there is numeric value\")"
   ]
  },
  {
   "cell_type": "code",
   "execution_count": 2,
   "metadata": {},
   "outputs": [
    {
     "name": "stdout",
     "output_type": "stream",
     "text": [
      "{5: 'Finland', 2: 'norway', 3: 'karachi', 1: 'lahore'}\n"
     ]
    }
   ],
   "source": [
    "ranking = {5: \"Finland\", 2: \"norway\", 3: \"karachi\"}\n",
    "ranking.update({1:\"lahore\"})\n",
    "print(ranking)"
   ]
  },
  {
   "cell_type": "code",
   "execution_count": 7,
   "metadata": {},
   "outputs": [
    {
     "name": "stdout",
     "output_type": "stream",
     "text": [
      "Sum : 600\n"
     ]
    }
   ],
   "source": [
    "Dic = {'a': 100, 'b':200, 'c':300} \n",
    "sum = 0\n",
    "for i in Dic: \n",
    " sum = sum + Dic[i] \n",
    "print(\"Sum :\", sum)"
   ]
  },
  {
   "cell_type": "code",
   "execution_count": 12,
   "metadata": {},
   "outputs": [
    {
     "name": "stdout",
     "output_type": "stream",
     "text": [
      "[20, 30, -20, 60]\n"
     ]
    }
   ],
   "source": [
    "x = [10, 20, 30, 20, 20, 30, 40, 50, -20, 60, 60, -20, -20] \n",
    "size = len(x) \n",
    "dub = [] \n",
    "for i in range(size): \n",
    "    k = i + 1\n",
    "    for j in range(k, size): \n",
    "     if x[i] == x[j] and x[i] not in dub: \n",
    "       dub.append(x[i]) \n",
    "print (dub)"
   ]
  },
  {
   "cell_type": "code",
   "execution_count": 14,
   "metadata": {},
   "outputs": [
    {
     "name": "stdout",
     "output_type": "stream",
     "text": [
      "Key is present in the dictionary\n",
      "Key is not present in the dictionary\n"
     ]
    }
   ],
   "source": [
    "dic = {1: 10, 2: 20, 3: 30, 4: 40, 5: 50, 6: 60}\n",
    "def presence(x):\n",
    "  if x in d:\n",
    "      print('Key is present in the dictionary')\n",
    "  else:\n",
    "      print('Key is not present in the dictionary')\n",
    "presence(5)\n",
    "presence(9)"
   ]
  },
  {
   "cell_type": "code",
   "execution_count": null,
   "metadata": {},
   "outputs": [],
   "source": []
  }
 ],
 "metadata": {
  "kernelspec": {
   "display_name": "Python 3",
   "language": "python",
   "name": "python3"
  },
  "language_info": {
   "codemirror_mode": {
    "name": "ipython",
    "version": 3
   },
   "file_extension": ".py",
   "mimetype": "text/x-python",
   "name": "python",
   "nbconvert_exporter": "python",
   "pygments_lexer": "ipython3",
   "version": "3.7.4"
  }
 },
 "nbformat": 4,
 "nbformat_minor": 2
}
