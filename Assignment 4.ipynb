{
 "cells": [
  {
   "cell_type": "code",
   "execution_count": 1,
   "metadata": {},
   "outputs": [
    {
     "name": "stdout",
     "output_type": "stream",
     "text": [
      "Maaz\n",
      "Ahmed\n",
      "21\n",
      "karachi\n"
     ]
    }
   ],
   "source": [
    "person = {\n",
    "    'first_name': 'Maaz',\n",
    "    'last_name': 'Ahmed',\n",
    "    'age': 21,\n",
    "    'city': 'karachi',\n",
    "    }\n",
    "\n",
    "print(person['first_name'])\n",
    "print(person['last_name'])\n",
    "print(person['age'])\n",
    "print(person['city'])"
   ]
  },
  {
   "cell_type": "code",
   "execution_count": 8,
   "metadata": {},
   "outputs": [
    {
     "name": "stdout",
     "output_type": "stream",
     "text": [
      "Karachi is in Pakistan.\n",
      "It has a population of about 2500000.\n",
      "This city fact that It Never Sleep Early\n",
      "Baltimore is in Usa.\n",
      "It has a population of about 123012.\n",
      "This city fact that It Is Really Cold\n",
      "Newyork is in Usa.\n",
      "It has a population of about 123890.\n",
      "This city fact that Its Very Business Side City\n"
     ]
    }
   ],
   "source": [
    "cities = {\n",
    "    'karachi': {\n",
    "        'country': 'Pakistan',\n",
    "        'population': 2500000,\n",
    "        'fact': 'it never sleep early',\n",
    "        },\n",
    "    'baltimore': {\n",
    "        'country': 'USA',\n",
    "        'population': 123012,\n",
    "        'fact': 'it is really cold',\n",
    "        },\n",
    "    'newyork': {\n",
    "        'country': 'USA',\n",
    "        'population': 123890,\n",
    "        'fact': 'its very business side city',\n",
    "        }\n",
    "    }\n",
    "\n",
    "for city, info in cities.items():\n",
    "    country = info['country'].title()\n",
    "    population = info['population']\n",
    "    fact = info['fact'].title()\n",
    "\n",
    "    print( city.title() + \" is in \" + country + \".\")\n",
    "    print(\"It has a population of about \" + str(population) + \".\")\n",
    "    print(\"This city fact that \" + fact )"
   ]
  },
  {
   "cell_type": "code",
   "execution_count": 10,
   "metadata": {},
   "outputs": [
    {
     "name": "stdout",
     "output_type": "stream",
     "text": [
      "How old are you?\n",
      "Enter 'end' when you are finished. 10\n",
      "  Your ticket is $10.\n",
      "How old are you?\n",
      "Enter 'end' when you are finished. 13\n",
      "  Your ticket is $15.\n",
      "How old are you?\n",
      "Enter 'end' when you are finished. end\n"
     ]
    }
   ],
   "source": [
    "check = \"How old are you?\"\n",
    "check += \"\\nEnter 'end' when you are finished. \"\n",
    "\n",
    "while True:\n",
    "    age = input(check)\n",
    "    if age == 'end':\n",
    "        break\n",
    "    age = int(age)\n",
    "\n",
    "    if age < 3:\n",
    "        print(\"  You get in free!\")\n",
    "    elif age < 13:\n",
    "        print(\"  Your ticket is $10.\")\n",
    "    else:\n",
    "        print(\"  Your ticket is $15.\")"
   ]
  },
  {
   "cell_type": "code",
   "execution_count": 13,
   "metadata": {},
   "outputs": [
    {
     "name": "stdout",
     "output_type": "stream",
     "text": [
      "one of my favorite books is harry potter.\n"
     ]
    }
   ],
   "source": [
    "def favorite_book(name):\n",
    "   print(\"one of my favorite books is \" + name +'.' )\n",
    "\n",
    "favorite_book('harry potter')"
   ]
  },
  {
   "cell_type": "code",
   "execution_count": 1,
   "metadata": {},
   "outputs": [
    {
     "name": "stdout",
     "output_type": "stream",
     "text": [
      "Well, I am thinking of a number between 1 and 30.\n",
      "Take a guess.\n",
      "16\n",
      "Your guess is smaller.\n",
      "Take a guess.\n",
      "25\n",
      "Your guess is smaller.\n",
      "Take a guess.\n",
      "28\n",
      "Your guess is greater.\n",
      "Nope. The number I was thinking of was 27\n"
     ]
    }
   ],
   "source": [
    "import random\n",
    "\n",
    "guessTaken = 0\n",
    "\n",
    "number = random.randint(1, 30)\n",
    "print('Well, I am thinking of a number between 1 and 30.')\n",
    "\n",
    "while guessTaken < 3:\n",
    "    print('Take a guess.')\n",
    "    guess = int(input())\n",
    "    guessTaken = guessTaken + 1\n",
    "\n",
    "    if guess < number:\n",
    "        print('Your guess is smaller.') \n",
    "    if guess > number:\n",
    "        print('Your guess is greater.')\n",
    "\n",
    "    if guess == number:\n",
    "        break\n",
    "\n",
    "if guess == number:\n",
    "    print('Good job' + '! You guessed my number in ' + str(guessTaken) + ' guesses!')\n",
    "\n",
    "if guess != number:\n",
    "  number = str(number)\n",
    "  print('Nope. The number I was thinking of was ' + number)"
   ]
  },
  {
   "cell_type": "code",
   "execution_count": null,
   "metadata": {},
   "outputs": [],
   "source": []
  }
 ],
 "metadata": {
  "kernelspec": {
   "display_name": "Python 3",
   "language": "python",
   "name": "python3"
  },
  "language_info": {
   "codemirror_mode": {
    "name": "ipython",
    "version": 3
   },
   "file_extension": ".py",
   "mimetype": "text/x-python",
   "name": "python",
   "nbconvert_exporter": "python",
   "pygments_lexer": "ipython3",
   "version": "3.7.4"
  }
 },
 "nbformat": 4,
 "nbformat_minor": 2
}
