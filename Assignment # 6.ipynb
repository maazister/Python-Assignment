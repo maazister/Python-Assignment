{
 "cells": [
  {
   "cell_type": "code",
   "execution_count": 4,
   "metadata": {},
   "outputs": [
    {
     "name": "stdout",
     "output_type": "stream",
     "text": [
      "\n"
     ]
    }
   ],
   "source": [
    "Object-oriented language (OOL) is a high-level computer programming language\n",
    "that implements objects and their associated procedures within the programming\n",
    "context to create software programs.\n",
    "\n",
    "Object-oriented language uses an object-oriented programming technique \n",
    "that binds related data and functions into an object and encourages\n",
    "reuse of these objects within the same and other programs"
   ]
  },
  {
   "cell_type": "code",
   "execution_count": 11,
   "metadata": {},
   "outputs": [
    {
     "name": "stdout",
     "output_type": "stream",
     "text": [
      "\n"
     ]
    }
   ],
   "source": [
    "OP has become a fundamental part of software development.\n",
    "Getting your head around the idea of object-oriented programming can be challenging for some IT professionals.\n",
    "You may be wondering why you even need objects when you could use the top-down approach of traditional structured\n",
    "programming in languages like Visual Basic.\n",
    "\n",
    "1. Modularity for easier troubleshooting\n",
    "2. Reuse of code through inheritance\n",
    "3. Flexibility through polymorphism\n",
    "4. Effective problem solving"
   ]
  },
  {
   "cell_type": "code",
   "execution_count": 12,
   "metadata": {},
   "outputs": [
    {
     "name": "stdout",
     "output_type": "stream",
     "text": [
      "\n"
     ]
    }
   ],
   "source": [
    "Python Functions: \n",
    "    Python function is a sequence of statements that execute in a certain order, given a name.\n",
    "    They let us implement code reusability.\n",
    "python method:\n",
    "    Python method is like a function, except it is attached to an object. We call a method on an object,\n",
    "    and it possibly makes changes to that object. A method, then, belongs to a class."
   ]
  },
  {
   "cell_type": "code",
   "execution_count": 13,
   "metadata": {},
   "outputs": [
    {
     "name": "stdout",
     "output_type": "stream",
     "text": [
      "\n"
     ]
    }
   ],
   "source": [
    "Class:\n",
    "    a class is a blueprint for creating objects, providing initial values for state (member variables or attributes),\n",
    "    and implementations of behavior (member functions or methods).\n",
    "Object:\n",
    "    objects are the things you think about first in designing a program and they are also the units of code that are\n",
    "    eventually derived from the process. In between, each object is made into a generic class of object and even \n",
    "    more generic classes are defined so that objects can share models and reuse the class definitions in their code.\n",
    "Attribute:\n",
    "    classes and objects have attributes. Attributes are data stored inside a class or instance and represent the state\n",
    "    or quality of the class or instance. In short, attributes store information about the instance.\n",
    "Behavior:\n",
    "    Behavior. A class's behavior determines how an instance of that class operates; for example, how it will \"react\" \n",
    "    if asked to do something by another class or object or if its internal state changes. Behavior is the only way\n",
    "    objects can do anything to themselves or have anything done to them."
   ]
  },
  {
   "cell_type": "code",
   "execution_count": 10,
   "metadata": {},
   "outputs": [
    {
     "name": "stdout",
     "output_type": "stream",
     "text": [
      "owner name is  Maaz\n",
      "this car model is  2004\n",
      "this car color is  black\n"
     ]
    }
   ],
   "source": [
    "class Car:\n",
    "    def __init__(self, owner, name , color , model , Cno ):\n",
    "        self.owner = owner\n",
    "        self.name = name\n",
    "        self.color = color\n",
    "        self.model = model\n",
    "        self.Cno = Cno\n",
    "\n",
    "    def OwnerName(self):\n",
    "        print(\"owner name is \", self.owner)\n",
    "\n",
    "    def Model(self):\n",
    "        print(\"this car model is \", self.model)\n",
    "\n",
    "    def Color(self):\n",
    "        print(\"this car color is \", self.color)\n",
    "    \n",
    "carA = Car(\"Maaz\", \"civic\", \"black\" , \"2004\" , 156)\n",
    "carB = Car(\"Ahmed\", \"mehran\", \"white\" , \"2005\" , 152)\n",
    "carC = Car(\"Khan\", \"cultus\", \"grey\" , \"2006\" , 136)\n",
    "carD = Car(\"muneeb\", \"kyber\", \"offwhite\" , \"2007\" , 166)\n",
    "carE = Car(\"Zaheer\", \"civic\", \"black\" , \"2008\" , 157)\n",
    "carA.OwnerName()\n",
    "carA.Model()\n",
    "carA.Color()"
   ]
  },
  {
   "cell_type": "code",
   "execution_count": null,
   "metadata": {},
   "outputs": [],
   "source": []
  }
 ],
 "metadata": {
  "kernelspec": {
   "display_name": "Python 3",
   "language": "python",
   "name": "python3"
  },
  "language_info": {
   "codemirror_mode": {
    "name": "ipython",
    "version": 3
   },
   "file_extension": ".py",
   "mimetype": "text/x-python",
   "name": "python",
   "nbconvert_exporter": "python",
   "pygments_lexer": "ipython3",
   "version": "3.7.4"
  }
 },
 "nbformat": 4,
 "nbformat_minor": 2
}
