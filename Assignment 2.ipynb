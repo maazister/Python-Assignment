{
 "cells": [
  {
   "cell_type": "code",
   "execution_count": 1,
   "metadata": {},
   "outputs": [
    {
     "name": "stdout",
     "output_type": "stream",
     "text": [
      "Marks In programming:45\n",
      "Marks In Mathematics:67\n",
      "Marks In database:68\n",
      "Marks In basic electronic:68\n",
      "Marks In SRE:68\n",
      "Your Marks In Percentage Is 63.2 %\n",
      "you have Grade: C\n"
     ]
    }
   ],
   "source": [
    "sub1=int(input(\"Marks In programming:\"))\n",
    "sub2=int(input(\"Marks In Mathematics:\"))\n",
    "sub3=int(input(\"Marks In database:\"))\n",
    "sub4=int(input(\"Marks In basic electronic:\"))\n",
    "sub5=int(input(\"Marks In SRE:\"))\n",
    "\n",
    "avg=(sub1+sub2+sub3+sub4+sub5)*100/500\n",
    "print(\"Your Marks In Percentage Is\",avg,\"%\")\n",
    " \n",
    "if(avg>=90):\n",
    " print(\"you have Grade: A+\")\n",
    "elif((avg>=80) & (avg<90)):\n",
    " print(\"you have Grade: A\")\n",
    "elif((avg>=70) & (avg<80)):\n",
    " print(\"you have Grade: B\")\n",
    "elif((avg>=60) & (avg<70)):\n",
    " print(\"you have Grade: C\")\n",
    "elif((avg>=50) & (avg<60)):\n",
    " print(\"you have Grade: D\")\n",
    "else:\n",
    " print(\"you have Grade: F\")"
   ]
  },
  {
   "cell_type": "code",
   "execution_count": 6,
   "metadata": {},
   "outputs": [
    {
     "name": "stdout",
     "output_type": "stream",
     "text": [
      "enter a number : 21\n",
      "the given number is ODD\n"
     ]
    }
   ],
   "source": [
    "num=int(input(\"enter a number : \"))\n",
    "if((num % 2) == 0):\n",
    "    print(\"the given number is EVEN\")\n",
    "else:\n",
    " print(\"the given number is ODD\")"
   ]
  },
  {
   "cell_type": "code",
   "execution_count": 8,
   "metadata": {},
   "outputs": [
    {
     "name": "stdout",
     "output_type": "stream",
     "text": [
      "The length of list is:  5\n"
     ]
    }
   ],
   "source": [
    "n = [10, 20, 30, 40, 50] \n",
    "print(\"The length of list is: \", len(n))"
   ]
  },
  {
   "cell_type": "code",
   "execution_count": 9,
   "metadata": {},
   "outputs": [
    {
     "name": "stdout",
     "output_type": "stream",
     "text": [
      "Sum of elements in given list is : 150\n"
     ]
    }
   ],
   "source": [
    "n = [10, 20, 30, 40, 50] \n",
    "print(\"Sum of elements in given list is :\", sum(n))"
   ]
  },
  {
   "cell_type": "code",
   "execution_count": 10,
   "metadata": {},
   "outputs": [
    {
     "name": "stdout",
     "output_type": "stream",
     "text": [
      "Largest number in the list is : 50\n"
     ]
    }
   ],
   "source": [
    "n = [10, 20, 30, 40, 50] \n",
    "print(\"Largest number in the list is :\", max(n))"
   ]
  },
  {
   "cell_type": "code",
   "execution_count": 12,
   "metadata": {},
   "outputs": [
    {
     "name": "stdout",
     "output_type": "stream",
     "text": [
      "1\n",
      "1\n",
      "2\n",
      "3\n"
     ]
    }
   ],
   "source": [
    "a = [1, 1, 2, 3, 5, 8, 13, 21, 34, 55, 89]\n",
    "for i in range(len(a)):\n",
    "  if a[i]<5: \n",
    "    print(a[i]) "
   ]
  },
  {
   "cell_type": "code",
   "execution_count": null,
   "metadata": {},
   "outputs": [],
   "source": []
  }
 ],
 "metadata": {
  "kernelspec": {
   "display_name": "Python 3",
   "language": "python",
   "name": "python3"
  },
  "language_info": {
   "codemirror_mode": {
    "name": "ipython",
    "version": 3
   },
   "file_extension": ".py",
   "mimetype": "text/x-python",
   "name": "python",
   "nbconvert_exporter": "python",
   "pygments_lexer": "ipython3",
   "version": "3.7.4"
  }
 },
 "nbformat": 4,
 "nbformat_minor": 2
}
