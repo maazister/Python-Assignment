{
 "cells": [
  {
   "cell_type": "code",
   "execution_count": 4,
   "metadata": {},
   "outputs": [
    {
     "name": "stdout",
     "output_type": "stream",
     "text": [
      "put a positive integer : 6\n",
      "factorial is  720\n"
     ]
    }
   ],
   "source": [
    "#if you want to copy try to understand the code...\n",
    "def fact(num):\n",
    "    fac=1\n",
    "    while num != 0:\n",
    "        fac = fac * num\n",
    "        num=num-1\n",
    "    print(\"factorial is \", fac)\n",
    "\n",
    "num = int(input(\"put a positive integer : \"))\n",
    "fact(num)"
   ]
  },
  {
   "cell_type": "code",
   "execution_count": 2,
   "metadata": {},
   "outputs": [
    {
     "name": "stdout",
     "output_type": "stream",
     "text": [
      "write a string : MaAz AhMed\n",
      "there are  4 capital letters\n",
      "there are  5 small letters\n"
     ]
    }
   ],
   "source": [
    "def sting(var) :\n",
    "    i=0\n",
    "    j=0\n",
    "    for v in var:\n",
    "        if v.isupper():\n",
    "            i+=1\n",
    "        if v.islower():\n",
    "            j+=1\n",
    "    print(\"there are \", i ,\"capital letters\")\n",
    "    print(\"there are \", j ,\"small letters\")\n",
    "var = input(\"write a string : \")\n",
    "sting(var)"
   ]
  },
  {
   "cell_type": "code",
   "execution_count": 3,
   "metadata": {},
   "outputs": [
    {
     "name": "stdout",
     "output_type": "stream",
     "text": [
      "these are the even numbers :\n",
      "2\n",
      "4\n",
      "4\n",
      "6\n",
      "86\n",
      "4\n"
     ]
    }
   ],
   "source": [
    "def even(lis):\n",
    "    print(\"these are the even numbers :\")\n",
    "    for l in lis:\n",
    "        if l % 2 == 0:\n",
    "            print(l)\n",
    "            \n",
    "            \n",
    "lis=[2,4,5,7,3,4,6,86,5,4,3]\n",
    "even(lis)"
   ]
  },
  {
   "cell_type": "code",
   "execution_count": 6,
   "metadata": {},
   "outputs": [
    {
     "name": "stdout",
     "output_type": "stream",
     "text": [
      "write a string : Maaz\n",
      "length is 4\n",
      "string is not palindrobe\n"
     ]
    }
   ],
   "source": [
    "def palin(var):\n",
    "    i = len(var)\n",
    "    print(\"length is \" + str(i))\n",
    "    j = 0\n",
    "    while i >= j:\n",
    "        if var[j] == var[i-1] :\n",
    "            j+=1\n",
    "            i-=1\n",
    "        else:\n",
    "            print(\"string is not palindrobe\")\n",
    "            break\n",
    "    if var[j] == var[i-1] :\n",
    "        print(\"string is palindrobe\")\n",
    "var= input(\"write a string : \")\n",
    "palin(var)"
   ]
  },
  {
   "cell_type": "code",
   "execution_count": 6,
   "metadata": {},
   "outputs": [
    {
     "name": "stdout",
     "output_type": "stream",
     "text": [
      "give a number : 13\n",
      "\n",
      "given number is a prime number\n"
     ]
    }
   ],
   "source": [
    "def prime(num):\n",
    "    i = 2\n",
    "    while i < num:\n",
    "        if num % i == 0:\n",
    "            print(\"\\ngiven number is not prime number\")\n",
    "            break\n",
    "        i+=1\n",
    "        if i == (num-1):\n",
    "            print(\"\\ngiven number is a prime number\")\n",
    "num=int(input(\"give a number : \"))\n",
    "prime(num)"
   ]
  },
  {
   "cell_type": "code",
   "execution_count": 9,
   "metadata": {},
   "outputs": [
    {
     "name": "stdout",
     "output_type": "stream",
     "text": [
      "You have purchase these thing in list :\n",
      "soap\n",
      "food\n",
      "drink\n",
      "body spray\n"
     ]
    }
   ],
   "source": [
    "def thing(*things):\n",
    "    print(\"You have purchase these thing in list :\")\n",
    "    for thing in things:\n",
    "        print(thing)\n",
    "\n",
    "thing(\"soap\",\"food\",\"drink\",\"body spray\")\n",
    "#u didnt tell to take items through user ;)"
   ]
  },
  {
   "cell_type": "code",
   "execution_count": null,
   "metadata": {},
   "outputs": [],
   "source": []
  }
 ],
 "metadata": {
  "kernelspec": {
   "display_name": "Python 3",
   "language": "python",
   "name": "python3"
  },
  "language_info": {
   "codemirror_mode": {
    "name": "ipython",
    "version": 3
   },
   "file_extension": ".py",
   "mimetype": "text/x-python",
   "name": "python",
   "nbconvert_exporter": "python",
   "pygments_lexer": "ipython3",
   "version": "3.7.4"
  }
 },
 "nbformat": 4,
 "nbformat_minor": 2
}
